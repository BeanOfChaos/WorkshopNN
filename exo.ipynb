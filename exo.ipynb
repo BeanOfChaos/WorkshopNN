{
 "cells": [
  {
   "cell_type": "code",
   "execution_count": null,
   "metadata": {},
   "outputs": [],
   "source": [
    "import numpy as np\n",
    "import tensorflow_datasets as tfds\n",
    "from tensorflow.keras.models import Sequential\n",
    "from tensorflow.keras.layers import Dense, Activation, Dropout\n",
    "from tensorflow.keras.optimizers import Adam"
   ]
  },
  {
   "cell_type": "markdown",
   "metadata": {},
   "source": [
    "[Dataset documentation](https://www.tensorflow.org/datasets/catalog/titanic)\n"
   ]
  },
  {
   "cell_type": "code",
   "execution_count": null,
   "metadata": {},
   "outputs": [],
   "source": [
    "ds = tfds.load(\"titanic\",\n",
    "               shuffle_files=True,\n",
    "               as_supervised=True,\n",
    "               )[\"train\"]\n",
    "\n",
    "# lists are easier to manipulate, and no significative performance overhead\n",
    "# format: list of tuples as (dict of features, target)\n",
    "ds = list(ds.as_numpy_iterator())\n",
    "\n",
    "allf = {key: set() for key in ds[0][0].keys()}\n",
    "for elem in ds:\n",
    "    for key in elem[0].keys():\n",
    "        allf[key].add(elem[0][key])"
   ]
  },
  {
   "cell_type": "code",
   "execution_count": null,
   "metadata": {},
   "outputs": [],
   "source": [
    "for key in allf.keys():\n",
    "    print(key, \" : \", allf[key])"
   ]
  },
  {
   "cell_type": "markdown",
   "metadata": {},
   "source": [
    "Available features:\n",
    "  - age (float32),\n",
    "  - boat (string),\n",
    "  - body (int32),\n",
    "  - cabin (string),\n",
    "  - embarked (int64),\n",
    "  - fare (float32),\n",
    "  - home.dest (string), \n",
    "  - name (string),\n",
    "  - parch (int32) - number of parents and children on board,\n",
    "  - pclass (int64) - passenger class, \n",
    "  - sex (int64),\n",
    "  - sibsp (int32) - number of siblings and spouses on board,\n",
    "  - ticket (string)"
   ]
  },
  {
   "cell_type": "code",
   "execution_count": null,
   "metadata": {},
   "outputs": [],
   "source": [
    "def preprocessing(ds, one_hot_keys=[], ignored_keys=[]):\n",
    "    res_x = np.empty((1, len(ds)), dtype=np.float32)\n",
    "    tmp = np.empty_like(res_x)\n",
    "    ds_keys = ds[0][0].keys()\n",
    "    for key in ds_keys:\n",
    "        if key in ignored_keys:\n",
    "            continue\n",
    "        elif key in one_hot_keys:\n",
    "            allvals = set()\n",
    "            for elem in ds:\n",
    "                allvals.add(elem[0][key])\n",
    "            allvals = sorted(list(allvals))\n",
    "            tmp_oh = np.zeros((len(allvals), len(ds)), dtype=np.float32)\n",
    "            for i, elem in enumerate(ds):\n",
    "                tmp_oh[allvals.index(elem[0][key]), i] = 1.\n",
    "            res_x = np.concatenate((res_x, tmp_oh), axis=0)\n",
    "        else:\n",
    "            for i, elem in enumerate(ds):\n",
    "                tmp[0, i] = elem[0][key]\n",
    "            res_x = np.concatenate((res_x, tmp), axis=0)\n",
    "    res_y = np.empty((1, len(ds)), dtype=np.float32)\n",
    "    for i, elem in enumerate(ds):\n",
    "        res_y[0, i] = elem[1]\n",
    "    return (np.delete(res_x, 0, axis=0), res_y)"
   ]
  },
  {
   "cell_type": "code",
   "execution_count": null,
   "metadata": {},
   "outputs": [],
   "source": [
    "#  dataset preprocessing\n",
    "\n",
    "one_hot_keys = [\"boat\", \"cabin\"] # to be filled in\n",
    "ignored_keys = [\"name\", \"ticket\", \"home.dest\"]\n",
    "\n",
    "xs, ys = preprocessing(ds, one_hot_keys=one_hot_keys, ignored_keys=ignored_keys)\n",
    "print(xs.shape, ys.shape)"
   ]
  },
  {
   "cell_type": "code",
   "execution_count": null,
   "metadata": {},
   "outputs": [],
   "source": [
    "# build model\n",
    "model = Sequential()\n",
    "\n",
    "# fill in the blank\n",
    "\n",
    "model.add(Dense(1), activation='sigmoid')\n",
    "\n",
    "model.compile(\n",
    "              metrics=['accuracy'],\n",
    "              )"
   ]
  },
  {
   "cell_type": "code",
   "execution_count": null,
   "metadata": {},
   "outputs": [],
   "source": [
    "# train model\n",
    "BATCH_SIZE = 16\n",
    "VAL_SPLIT = 0.1\n",
    "\n",
    "model.fit(x=xs, y=ys, batch_size=BATCH_SIZE,\n",
    "          valdiation_split=VAL_SPLIT)"
   ]
  }
 ],
 "metadata": {
  "kernelspec": {
   "display_name": "Python (wnn)",
   "language": "python",
   "name": "wnn"
  },
  "language_info": {
   "codemirror_mode": {
    "name": "ipython",
    "version": 3
   },
   "file_extension": ".py",
   "mimetype": "text/x-python",
   "name": "python",
   "nbconvert_exporter": "python",
   "pygments_lexer": "ipython3",
   "version": "3.7.6"
  }
 },
 "nbformat": 4,
 "nbformat_minor": 4
}
